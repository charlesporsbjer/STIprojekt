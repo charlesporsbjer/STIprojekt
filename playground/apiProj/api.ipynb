{
 "cells": [
  {
   "cell_type": "markdown",
   "metadata": {},
   "source": [
    "# TODO:\n",
    "### Fixa weather API\n",
    "### Fixa dummy temp-sensor\n",
    "### Fixa API som tar emot location och väderdata och temperatur\n",
    "### Fixa att API uppdaterar inomhustemperatur"
   ]
  },
  {
   "cell_type": "markdown",
   "metadata": {},
   "source": [
    "### Geolocation API"
   ]
  },
  {
   "cell_type": "markdown",
   "metadata": {},
   "source": [
    "# API"
   ]
  },
  {
   "cell_type": "code",
   "execution_count": 17,
   "metadata": {},
   "outputs": [],
   "source": [
    "# API boiler plate.\n",
    "from fastapi import FastAPI, HTTPException\n",
    "from pydantic import BaseModel, UUID4\n",
    "\n",
    "from uuid import uuid4\n",
    "\n",
    "app = FastAPI()\n",
    "\n",
    "class command(BaseModel):\n",
    "    q_id: UUID4\n",
    "    request: str\n",
    "    answer: str | None\n",
    "\n",
    "class createCommand(BaseModel):\n",
    "    request: str\n",
    "\n",
    "#TODO: Define classes!"
   ]
  },
  {
   "cell_type": "code",
   "execution_count": 21,
   "metadata": {},
   "outputs": [],
   "source": [
    "# API functions.\n",
    "@app.get(\"/\")\n",
    "def read_root():\n",
    "    return {\"message\": \"Head message.\"}\n",
    "\n",
    "\n",
    "import requests\n",
    "import os\n",
    "from dotenv import load_dotenv\n",
    "\n",
    "# User enters location. Function returns current outdoor temp.\n",
    "@app.post(\"/location\")\n",
    "def enter_location(house_location: str):\n",
    "    # Load environmental variables\n",
    "    load_dotenv()\n",
    "\n",
    "    # Get the API key for geocoding\n",
    "    geocode_apikey = os.getenv('GEOCODE_API')\n",
    "    if not geocode_apikey:\n",
    "        return {\"error\": \"Geocode API key not found\"}\n",
    "\n",
    "    # Form the geocoding URL to fetch latitude and longitude\n",
    "    geocode_url = f\"https://geocode.maps.co/search?q={house_location}&api_key={geocode_apikey}\"\n",
    "    \n",
    "    try:\n",
    "        geocode_response = requests.get(geocode_url)\n",
    "        geocode_response.raise_for_status()  # Raises HTTPError for bad requests (4XX or 5XX)\n",
    "        geocode_data = geocode_response.json()\n",
    "        lat = geocode_data[0]['lat']\n",
    "        lon = geocode_data[0]['lon']\n",
    "    except requests.RequestException as e:\n",
    "        return {\"error\": str(e)}\n",
    "    except (IndexError, KeyError):\n",
    "        return {\"error\": \"Failed to get valid location data\"}\n",
    "\n",
    "    # Form the URL to fetch the current temperature\n",
    "    weather_url = f\"https://api.open-meteo.com/v1/forecast?latitude={lat}&longitude={lon}&current=temperature_2m&hourly=temperature_2m\"\n",
    "    \n",
    "    try:\n",
    "        weather_response = requests.get(weather_url)\n",
    "        weather_response.raise_for_status()\n",
    "        weather_data = weather_response.json()\n",
    "        temp = weather_data['hourly']['temperature_2m']\n",
    "    except requests.RequestException as e:\n",
    "        return {\"error\": str(e)}\n",
    "    except KeyError:\n",
    "        return {\"error\": \"Failed to get temperature data\"}\n",
    "\n",
    "    return {\"temperature\": temp}"
   ]
  }
 ],
 "metadata": {
  "kernelspec": {
   "display_name": "system-integration-training-ground-g4vt9pt9-py3.12",
   "language": "python",
   "name": "python3"
  },
  "language_info": {
   "codemirror_mode": {
    "name": "ipython",
    "version": 3
   },
   "file_extension": ".py",
   "mimetype": "text/x-python",
   "name": "python",
   "nbconvert_exporter": "python",
   "pygments_lexer": "ipython3",
   "version": "3.12.3"
  }
 },
 "nbformat": 4,
 "nbformat_minor": 2
}
